{
 "cells": [
  {
   "cell_type": "markdown",
   "id": "330310d5-87c3-41b3-b9b1-30440963cf9c",
   "metadata": {},
   "source": [
    "# Subspace analysis\n",
    "\n",
    "This notebook computes the RMSD distances (normalized for number of dimensions) of the data distribution from the PCA, Patch-PCA, and downsampling subspaces. The numbers here correspond to Table 1 in the paper."
   ]
  },
  {
   "cell_type": "code",
   "execution_count": 1,
   "id": "22a73eee-e1dd-4c2e-b75e-00265060598a",
   "metadata": {},
   "outputs": [],
   "source": [
    "import torch\n",
    "from torchvision import datasets, models, transforms\n",
    "import torch.nn as nn\n",
    "import numpy as np\n",
    "import os\n",
    "import matplotlib.pyplot as plt\n",
    "from torch.utils.data import DataLoader\n",
    "import tqdm\n",
    "import seaborn\n",
    "from sklearn.decomposition import PCA\n",
    "sns = seaborn\n",
    "def downsample(x):\n",
    "    return torch.nn.AvgPool2d(2, stride=2, padding=0)(x)\n",
    "def upsample(x):\n",
    "    x = x.view(-1, *x.shape[-3:])\n",
    "    B, _, R, _ = x.shape\n",
    "    return x.reshape(B, 3, R, 1, R, 1).repeat(1, 1, 1, 2, 1, 2).reshape(B, 3, 2*R, 2*R)\n",
    "def subspace_squeeze(x, factor=2):\n",
    "    perp = x - upsample(downsample(x))\n",
    "    return x - perp*(1-1/factor)    \n",
    "import sys\n",
    "#os.environ['CUDA_VISIBLE_DEVICES'] = '0'\n"
   ]
  },
  {
   "cell_type": "code",
   "execution_count": 15,
   "id": "291608b6-ca14-412e-8fa1-17044254eb3f",
   "metadata": {},
   "outputs": [],
   "source": [
    "use_tqdm = False\n",
    "def repeat(func, x, n):\n",
    "    for _ in range(n):\n",
    "        x = func(x)\n",
    "    return x\n",
    "def downsampling_distance(loader, times):\n",
    "    if use_tqdm: loader = tqdm.tqdm(loader)\n",
    "    dists = []\n",
    "    for X in loader:\n",
    "        if type(X) == list: X = X[0]\n",
    "        X_proj = repeat(downsample, X, times)\n",
    "        X_proj = repeat(upsample, X_proj, times)\n",
    "        dist = ((X_proj - X)**2).sum((1,2,3)).numpy()\n",
    "        dists.extend(list(dist))\n",
    "    return dists\n",
    "\n",
    "def mean_distance(loader):\n",
    "    if use_tqdm: loader = tqdm.tqdm(loader)\n",
    "    dists = []\n",
    "    N_batches = 0\n",
    "    mean = 0\n",
    "    for X in loader:\n",
    "        if type(X) == list: X = X[0]\n",
    "        mean += X.mean(0)\n",
    "        N_batches += 1\n",
    "    mean = (mean / N_batches).unsqueeze(0)\n",
    "    for X in loader:\n",
    "        if type(X) == list: X = X[0]\n",
    "        dist = ((X - mean)**2).sum((1,2,3)).numpy()\n",
    "        dists.extend(list(dist))\n",
    "    return dists\n",
    "\n",
    "def pca_distance(loader, dims, max_n=None):\n",
    "    if use_tqdm: loader = tqdm.tqdm(loader)\n",
    "    Xs = []\n",
    "    for X in loader:\n",
    "        if type(X) == list: X = X[0]\n",
    "        Xs.append(X)\n",
    "    Xs = torch.concat(Xs)\n",
    "    Xs = Xs.view(Xs.shape[0], -1).float()\n",
    "    pca = PCA(n_components=dims)\n",
    "    if max_n is None: max_n = Xs.shape[0]\n",
    "    pca = pca.fit(Xs[:max_n])\n",
    "    dists = []\n",
    "    for X in loader:\n",
    "        if type(X) == list: X = X[0]\n",
    "        X = X.view(X.shape[0], -1)\n",
    "        X_fit = pca.transform(X)\n",
    "        X_fit = pca.inverse_transform(X_fit)\n",
    "        dist = ((X-X_fit)**2).sum(1).numpy()\n",
    "        dists.extend(list(dist))\n",
    "    return dists\n",
    "    \n",
    "    "
   ]
  },
  {
   "cell_type": "code",
   "execution_count": 16,
   "id": "3eb9daf8-f84e-473c-8317-921d661b8a68",
   "metadata": {},
   "outputs": [],
   "source": [
    "def patch(X, s):\n",
    "    B, _, D, _ = X.shape\n",
    "    X = X.reshape(B, 3, D//s, s, D//s, s).permute(0, 1, 3, 5, 2, 4).reshape(-1, 3 * s**2, D//s, D//s)\n",
    "    return X\n",
    "def unpatch(X, s):\n",
    "    return X.reshape(-1, 3, s, s, D//s, D//s).permute(0, 1, 4, 2, 5, 3).reshape(-1, 3, D, D)\n",
    "def patch_pca_distance(loader, s, max_n=None):\n",
    "    if use_tqdm: loader = tqdm.tqdm(loader)\n",
    "    Xs = []\n",
    "    for X in loader:\n",
    "        if type(X) == list: X = X[0]\n",
    "        Xs.append(X)\n",
    "    Xs = torch.concat(Xs).float()\n",
    "    B, _, D, _ = Xs.shape\n",
    "    Xs = patch(Xs, s).permute(0, 2, 3, 1)\n",
    "\n",
    "    pca = PCA(n_components=3)\n",
    "    if max_n is None: max_n = Xs.shape[0]\n",
    "\n",
    "    pca = pca.fit(Xs[:max_n].reshape(-1, 3*s*s))\n",
    "    \n",
    "    dists = []\n",
    "    for X in loader:\n",
    "        if type(X) == list: X = X[0]\n",
    "        X = patch(X, s).permute(0, 2, 3, 1)\n",
    "        X_fit = pca.transform(X.reshape(-1, 3*s*s))\n",
    "        X_fit = pca.inverse_transform(X_fit).reshape(-1, D//s, D//s, 3*s*s)\n",
    "        dist = ((X-X_fit)**2).sum((1, 2, 3)).numpy()\n",
    "        dists.extend(list(dist))\n",
    "    return dists"
   ]
  },
  {
   "cell_type": "markdown",
   "id": "9d3c29e9-0320-44a2-be98-934a98751ef6",
   "metadata": {},
   "source": [
    "# LSUN Church"
   ]
  },
  {
   "cell_type": "code",
   "execution_count": 5,
   "id": "b54861d9-ae1d-4ccf-87e2-32aff6a71790",
   "metadata": {},
   "outputs": [],
   "source": [
    "# Numpy file is just a subset of the LSUN Church dataset. Available upon request.\n",
    "church = np.load('lsun-church.npy')\n",
    "church = torch.tensor(church.transpose(0,3,1,2)).float()/255\n",
    "church_loader = DataLoader(church, batch_size=1000, shuffle=False)"
   ]
  },
  {
   "cell_type": "code",
   "execution_count": 6,
   "id": "3f585e4a-5d99-4c16-ab27-b114c846a3e2",
   "metadata": {},
   "outputs": [
    {
     "name": "stdout",
     "output_type": "stream",
     "text": [
      "LSUN Church 32x32 PCA 0.08223481725677355\n",
      "LSUN Church 16x16 PCA 0.10326715360850088\n",
      "LSUN Church 8x8 PCA 0.12618160595111197\n"
     ]
    }
   ],
   "source": [
    "msd = np.mean(pca_distance(church_loader, 32*32*3, max_n=10000))/(3*256*256*(1-1/64))\n",
    "print(\"LSUN Church 32x32 PCA\", np.sqrt(msd))\n",
    "\n",
    "msd = np.mean(pca_distance(church_loader, 16*16*3, max_n=10000))/(3*256*256*(1-1/256))\n",
    "print(\"LSUN Church 16x16 PCA\", np.sqrt(msd))\n",
    "\n",
    "msd = np.mean(pca_distance(church_loader, 8*8*3, max_n=10000))/(3*256*256*(1-1/1024))\n",
    "print(\"LSUN Church 8x8 PCA\", np.sqrt(msd))"
   ]
  },
  {
   "cell_type": "code",
   "execution_count": 7,
   "id": "3eeed6a1-637f-45d1-9980-89efacc35f95",
   "metadata": {},
   "outputs": [
    {
     "name": "stdout",
     "output_type": "stream",
     "text": [
      "LSUN Church 128x128 downsampling 0.06969019929745306\n",
      "LSUN Church 64x64 downsampling 0.0883778833712964\n",
      "LSUN Church 32x32 downsampling 0.10887079373374633\n",
      "LSUN Church 16x16 downsampling 0.13137195950968375\n",
      "LSUN Church 8x8 downsampling 0.15799366823221628\n",
      "LSUN Church 0x0 0.26245155038732393\n"
     ]
    }
   ],
   "source": [
    "msd = np.mean(downsampling_distance(church_loader, 1))/(3*256*256*(1-1/4))\n",
    "print(\"LSUN Church 128x128 downsampling\", np.sqrt(msd))\n",
    "\n",
    "msd = np.mean(downsampling_distance(church_loader, 2))/(3*256*256*(1-1/16))\n",
    "print(\"LSUN Church 64x64 downsampling\", np.sqrt(msd))\n",
    "\n",
    "msd = np.mean(downsampling_distance(church_loader, 3))/(3*256*256*(1-1/64))\n",
    "print(\"LSUN Church 32x32 downsampling\", np.sqrt(msd))\n",
    "\n",
    "msd = np.mean(downsampling_distance(church_loader, 4))/(3*256*256*(1-1/256))\n",
    "print(\"LSUN Church 16x16 downsampling\", np.sqrt(msd))\n",
    "\n",
    "msd = np.mean(downsampling_distance(church_loader, 5))/(3*256*256*(1-1/1024))\n",
    "print(\"LSUN Church 8x8 downsampling\", np.sqrt(msd))\n",
    "\n",
    "msd = np.mean(mean_distance(church_loader))/(3*256*256)\n",
    "print(\"LSUN Church 0x0\", np.sqrt(msd))"
   ]
  },
  {
   "cell_type": "code",
   "execution_count": 8,
   "id": "f718fcf3-22c4-41c0-8969-181c378f3890",
   "metadata": {},
   "outputs": [
    {
     "name": "stdout",
     "output_type": "stream",
     "text": [
      "LSUN Church 128x128 Patch-PCA 0.05752279336367003\n",
      "LSUN Church 64x64 Patch-PCA 0.07905078133528938\n",
      "LSUN Church 32x32 Patch-PCA 0.0993428842143585\n",
      "LSUN Church 16x16 Patch-PCA 0.12086181618776415\n",
      "LSUN Church 8x8 Patch-PCA 0.14647554526945197\n"
     ]
    }
   ],
   "source": [
    "msd = np.mean(patch_pca_distance(church_loader, 2, max_n=1000))/(3*256*256*(1-1/4))\n",
    "print(\"LSUN Church 128x128 Patch-PCA\", np.sqrt(msd))\n",
    "\n",
    "msd = np.mean(patch_pca_distance(church_loader, 4, max_n=1000))/(3*256*256*(1-1/16))\n",
    "print(\"LSUN Church 64x64 Patch-PCA\", np.sqrt(msd))\n",
    "\n",
    "msd = np.mean(patch_pca_distance(church_loader, 8, max_n=1000))/(3*256*256*(1-1/64))\n",
    "print(\"LSUN Church 32x32 Patch-PCA\", np.sqrt(msd))\n",
    "\n",
    "msd = np.mean(patch_pca_distance(church_loader, 16, max_n=1000))/(3*256*256*(1-1/256))\n",
    "print(\"LSUN Church 16x16 Patch-PCA\", np.sqrt(msd))\n",
    "\n",
    "msd = np.mean(patch_pca_distance(church_loader, 32, max_n=1000))/(3*256*256*(1-1/1024))\n",
    "print(\"LSUN Church 8x8 Patch-PCA\", np.sqrt(msd))"
   ]
  },
  {
   "cell_type": "markdown",
   "id": "29b83e69-2d33-4e4e-90c1-379cc302851c",
   "metadata": {},
   "source": [
    "# CelebA"
   ]
  },
  {
   "cell_type": "code",
   "execution_count": 9,
   "id": "62df0e91-0033-4679-9c8e-eacceb6be793",
   "metadata": {},
   "outputs": [],
   "source": [
    "# Numpy file is just a subset of the CelebA-HQ-dataset. Available upon request.\n",
    "celeba = np.load('celebA-HQ-256.npy')\n",
    "celeba = torch.tensor(celeba).float()/255\n",
    "celeba_loader = DataLoader(celeba, batch_size=1000, shuffle=False)"
   ]
  },
  {
   "cell_type": "code",
   "execution_count": 10,
   "id": "5e8ae284-c9a6-46e5-9e1c-27a012fc1a5f",
   "metadata": {},
   "outputs": [
    {
     "name": "stdout",
     "output_type": "stream",
     "text": [
      "CelebA 32x32 PCA 0.04141311471471549\n",
      "CelebA 16x16 PCA 0.058937831566438996\n",
      "CelebA 8x8 PCA 0.08303656842782652\n"
     ]
    }
   ],
   "source": [
    "msd = np.mean(pca_distance(celeba_loader, 32*32*3, max_n=10000))/(3*256*256*(1-1/64))\n",
    "print(\"CelebA 32x32 PCA\", np.sqrt(msd))\n",
    "\n",
    "msd = np.mean(pca_distance(celeba_loader, 16*16*3, max_n=10000))/(3*256*256*(1-1/256))\n",
    "print(\"CelebA 16x16 PCA\", np.sqrt(msd))\n",
    "\n",
    "msd = np.mean(pca_distance(celeba_loader, 8*8*3, max_n=10000))/(3*256*256*(1-1/1024))\n",
    "print(\"CelebA 8x8 PCA\", np.sqrt(msd))"
   ]
  },
  {
   "cell_type": "code",
   "execution_count": 11,
   "id": "a89c6286-bc7c-480b-b564-271a761928fc",
   "metadata": {},
   "outputs": [
    {
     "name": "stdout",
     "output_type": "stream",
     "text": [
      "CelebA 128x128 downsampling 0.034147739617184675\n",
      "CelebA 64x64 downsampling 0.05084107453389564\n",
      "CelebA 32x32 downsampling 0.07347487958749131\n",
      "CelebA 16x16 downsampling 0.1030002890867888\n",
      "CelebA 8x8 downsampling 0.14072510083194403\n",
      "CelebA 0x0 0.2616690877986674\n"
     ]
    }
   ],
   "source": [
    "msd = np.mean(downsampling_distance(celeba_loader, 1))/(3*256*256*(1-1/4))\n",
    "print(\"CelebA 128x128 downsampling\", np.sqrt(msd))\n",
    "\n",
    "msd = np.mean(downsampling_distance(celeba_loader, 2))/(3*256*256*(1-1/16))\n",
    "print(\"CelebA 64x64 downsampling\", np.sqrt(msd))\n",
    "\n",
    "msd = np.mean(downsampling_distance(celeba_loader, 3))/(3*256*256*(1-1/64))\n",
    "print(\"CelebA 32x32 downsampling\", np.sqrt(msd))\n",
    "\n",
    "msd = np.mean(downsampling_distance(celeba_loader, 4))/(3*256*256*(1-1/256))\n",
    "print(\"CelebA 16x16 downsampling\", np.sqrt(msd))\n",
    "\n",
    "msd = np.mean(downsampling_distance(celeba_loader, 5))/(3*256*256*(1-1/1024))\n",
    "print(\"CelebA 8x8 downsampling\", np.sqrt(msd))\n",
    "\n",
    "msd = np.mean(mean_distance(celeba_loader))/(3*256*256)\n",
    "print(\"CelebA 0x0\", np.sqrt(msd))"
   ]
  },
  {
   "cell_type": "code",
   "execution_count": 12,
   "id": "806677fe-3a16-49aa-bac1-5dd2765f74e3",
   "metadata": {},
   "outputs": [
    {
     "name": "stdout",
     "output_type": "stream",
     "text": [
      "CelebA 128x128 Patch-PCA 0.03414721132014191\n",
      "CelebA 64x64 Patch-PCA 0.045853169749620705\n",
      "CelebA 32x32 Patch-PCA 0.06341172993249068\n",
      "CelebA 16x16 Patch-PCA 0.08697470398214206\n",
      "CelebA 8x8 Patch-PCA 0.11673112512706059\n"
     ]
    }
   ],
   "source": [
    "msd = np.mean(patch_pca_distance(celeba_loader, 2, max_n=1000))/(3*256*256*(1-1/4))\n",
    "print(\"CelebA 128x128 Patch-PCA\", np.sqrt(msd))\n",
    "\n",
    "msd = np.mean(patch_pca_distance(celeba_loader, 4, max_n=1000))/(3*256*256*(1-1/16))\n",
    "print(\"CelebA 64x64 Patch-PCA\", np.sqrt(msd))\n",
    "\n",
    "msd = np.mean(patch_pca_distance(celeba_loader, 8, max_n=1000))/(3*256*256*(1-1/64))\n",
    "print(\"CelebA 32x32 Patch-PCA\", np.sqrt(msd))\n",
    "\n",
    "msd = np.mean(patch_pca_distance(celeba_loader, 16, max_n=1000))/(3*256*256*(1-1/256))\n",
    "print(\"CelebA 16x16 Patch-PCA\", np.sqrt(msd))\n",
    "\n",
    "msd = np.mean(patch_pca_distance(celeba_loader, 32, max_n=1000))/(3*256*256*(1-1/1024))\n",
    "print(\"CelebA 8x8 Patch-PCA\", np.sqrt(msd))"
   ]
  },
  {
   "cell_type": "markdown",
   "id": "5a474370-fe44-4330-9478-b1b68878859e",
   "metadata": {},
   "source": [
    "# CIFAR"
   ]
  },
  {
   "cell_type": "code",
   "execution_count": 13,
   "id": "0363bfba-078a-4227-a19d-de5470592d32",
   "metadata": {},
   "outputs": [],
   "source": [
    "cifar = datasets.CIFAR10('cifar10', train=True, transform=transforms.ToTensor())\n",
    "cifar_loader = DataLoader(cifar, batch_size=1000, shuffle=False)"
   ]
  },
  {
   "cell_type": "code",
   "execution_count": 17,
   "id": "65ce634e-85dc-4268-8f29-2aa1d1693816",
   "metadata": {},
   "outputs": [
    {
     "name": "stdout",
     "output_type": "stream",
     "text": [
      "CIFAR-10 16x16 downsampling 0.07505646805106986\n",
      "CIFAR-10 8x8 downsampling 0.11017048700915723\n",
      "CIFAR-10 0x0 0.24895685839249357\n",
      "CIFAR-10 16x16 PCA 0.02450205874356285\n",
      "CIFAR-10 8x8 PCA 0.061117920745001775\n",
      "CIFAR-10 16x16 Patch-PCA 0.0644708464728469\n",
      "CIFAR-10 8x8 Patch-PCA 0.09349189440298912\n"
     ]
    }
   ],
   "source": [
    "msd = np.mean(downsampling_distance(cifar_loader, 1))/(3072*(1-1/4))\n",
    "print(\"CIFAR-10 16x16 downsampling\", np.sqrt(msd))\n",
    "\n",
    "msd = np.mean(downsampling_distance(cifar_loader, 2))/(3072*(1-1/16))\n",
    "print(\"CIFAR-10 8x8 downsampling\", np.sqrt(msd))\n",
    "\n",
    "msd = np.mean(mean_distance(cifar_loader))/(3072)\n",
    "print(\"CIFAR-10 0x0\", np.sqrt(msd))\n",
    "\n",
    "msd = np.mean(pca_distance(cifar_loader, 16*16*3))/(3072*(1-1/4))\n",
    "print(\"CIFAR-10 16x16 PCA\", np.sqrt(msd))\n",
    "\n",
    "msd = np.mean(pca_distance(cifar_loader, 8*8*3))/(3072*(1-1/16))\n",
    "print(\"CIFAR-10 8x8 PCA\", np.sqrt(msd))\n",
    "\n",
    "msd = np.mean(patch_pca_distance(cifar_loader, 2))/(3072*(1-1/4))\n",
    "print(\"CIFAR-10 16x16 Patch-PCA\", np.sqrt(msd))\n",
    "\n",
    "msd = np.mean(patch_pca_distance(cifar_loader, 4))/(3072*(1-1/16))\n",
    "print(\"CIFAR-10 8x8 Patch-PCA\", np.sqrt(msd))"
   ]
  }
 ],
 "metadata": {
  "kernelspec": {
   "display_name": "Python 3",
   "language": "python",
   "name": "python3"
  },
  "language_info": {
   "codemirror_mode": {
    "name": "ipython",
    "version": 3
   },
   "file_extension": ".py",
   "mimetype": "text/x-python",
   "name": "python",
   "nbconvert_exporter": "python",
   "pygments_lexer": "ipython3",
   "version": "3.8.12"
  }
 },
 "nbformat": 4,
 "nbformat_minor": 5
}
